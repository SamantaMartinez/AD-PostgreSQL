{
  "nbformat": 4,
  "nbformat_minor": 0,
  "metadata": {
    "colab": {
      "provenance": []
    },
    "kernelspec": {
      "name": "python3",
      "display_name": "Python 3"
    },
    "language_info": {
      "name": "python"
    }
  },
  "cells": [
    {
      "cell_type": "code",
      "execution_count": 3,
      "metadata": {
        "colab": {
          "base_uri": "https://localhost:8080/"
        },
        "id": "0IcmRrQD8eca",
        "outputId": "83f80d7e-b5cf-4441-e4ee-e50bba2d5044"
      },
      "outputs": [
        {
          "output_type": "stream",
          "name": "stdout",
          "text": [
            "Collecting faker\n",
            "  Downloading Faker-30.4.0-py3-none-any.whl.metadata (15 kB)\n",
            "Requirement already satisfied: python-dateutil>=2.4 in /usr/local/lib/python3.10/dist-packages (from faker) (2.8.2)\n",
            "Requirement already satisfied: typing-extensions in /usr/local/lib/python3.10/dist-packages (from faker) (4.12.2)\n",
            "Requirement already satisfied: six>=1.5 in /usr/local/lib/python3.10/dist-packages (from python-dateutil>=2.4->faker) (1.16.0)\n",
            "Downloading Faker-30.4.0-py3-none-any.whl (1.8 MB)\n",
            "\u001b[?25l   \u001b[90m━━━━━━━━━━━━━━━━━━━━━━━━━━━━━━━━━━━━━━━━\u001b[0m \u001b[32m0.0/1.8 MB\u001b[0m \u001b[31m?\u001b[0m eta \u001b[36m-:--:--\u001b[0m\r\u001b[2K   \u001b[91m━━━━━━━━━━━━━━━━━━━━━━━━━━━━━━━━━━━━━━━\u001b[0m\u001b[91m╸\u001b[0m \u001b[32m1.8/1.8 MB\u001b[0m \u001b[31m83.7 MB/s\u001b[0m eta \u001b[36m0:00:01\u001b[0m\r\u001b[2K   \u001b[90m━━━━━━━━━━━━━━━━━━━━━━━━━━━━━━━━━━━━━━━━\u001b[0m \u001b[32m1.8/1.8 MB\u001b[0m \u001b[31m44.7 MB/s\u001b[0m eta \u001b[36m0:00:00\u001b[0m\n",
            "\u001b[?25hInstalling collected packages: faker\n",
            "Successfully installed faker-30.4.0\n",
            "Archivos CSV generados con precios en COP: customers.csv, menu_items.csv, orders.csv\n"
          ]
        }
      ],
      "source": [
        "!pip install faker\n",
        "\n",
        "import pandas as pd\n",
        "import random\n",
        "from faker import Faker\n",
        "\n",
        "# Instanciamos Faker para generar datos ficticios\n",
        "fake = Faker()\n",
        "\n",
        "# Configuramos el número de registros\n",
        "num_customers = 1000\n",
        "num_menu_items = 50\n",
        "num_orders = 1000\n",
        "\n",
        "# Generamos los datos para la tabla \"customers\"\n",
        "customers_data = {\n",
        "    \"customer_id\": list(range(1, num_customers + 1)),\n",
        "    \"first_name\": [fake.first_name() for _ in range(num_customers)],\n",
        "    \"last_name\": [fake.last_name() for _ in range(num_customers)],\n",
        "    \"email\": [fake.email() for _ in range(num_customers)],\n",
        "    \"phone_number\": [fake.phone_number() for _ in range(num_customers)],\n",
        "    \"address\": [fake.address().replace('\\n', ', ') for _ in range(num_customers)]\n",
        "}\n",
        "\n",
        "# Generamos los datos para la tabla \"menu_items\" con precios en pesos colombianos\n",
        "menu_items = ['Burger', 'Pasta', 'Pizza', 'Caesar Salad', 'Grilled Salmon', 'Tacos', 'Sushi Roll', 'Steak',\n",
        "              'Fried Chicken', 'French Fries', 'Chocolate Cake', 'Apple Pie', 'Ice Cream', 'Coffee', 'Tea', 'Soda']\n",
        "\n",
        "categories = ['Main Course', 'Appetizer', 'Dessert', 'Beverage']\n",
        "\n",
        "menu_items_data = {\n",
        "    \"item_id\": list(range(1, num_menu_items + 1)),\n",
        "    \"item_name\": [random.choice(menu_items) for _ in range(num_menu_items)],\n",
        "    # Generamos precios aleatorios en un rango típico de restaurante en Colombia\n",
        "    \"price\": [round(random.uniform(10000, 50000), 2) for _ in range(num_menu_items)],  # precios entre 10,000 y 50,000 COP\n",
        "    \"category\": [random.choice(categories) for _ in range(num_menu_items)]\n",
        "}\n",
        "\n",
        "# Generamos los datos para la tabla \"orders\"\n",
        "orders_data = {\n",
        "    \"order_id\": list(range(1, num_orders + 1)),\n",
        "    \"customer_id\": [random.randint(1, num_customers) for _ in range(num_orders)],\n",
        "    \"item_id\": [random.randint(1, num_menu_items) for _ in range(num_orders)],\n",
        "    \"quantity\": [random.randint(1, 5) for _ in range(num_orders)],\n",
        "    \"order_date\": [fake.date_time_this_year() for _ in range(num_orders)]\n",
        "}\n",
        "\n",
        "# Convertimos los datos a DataFrames\n",
        "df_customers = pd.DataFrame(customers_data)\n",
        "df_menu_items = pd.DataFrame(menu_items_data)\n",
        "df_orders = pd.DataFrame(orders_data)\n",
        "\n",
        "# Guardamos en archivos CSV\n",
        "df_customers.to_csv('customers.csv', index=False)\n",
        "df_menu_items.to_csv('menu_items.csv', index=False)\n",
        "df_orders.to_csv('orders.csv', index=False)\n",
        "\n",
        "print(\"Archivos CSV generados con precios en COP: customers.csv, menu_items.csv, orders.csv\")\n"
      ]
    },
    {
      "cell_type": "code",
      "source": [
        "from google.colab import files\n",
        "\n",
        "# Descargar los archivos CSV\n",
        "files.download('customers.csv')\n",
        "files.download('menu_items.csv')\n",
        "files.download('orders.csv')"
      ],
      "metadata": {
        "colab": {
          "base_uri": "https://localhost:8080/",
          "height": 17
        },
        "id": "YEO0-HG19RCA",
        "outputId": "c87a3f7a-4bda-42e1-be55-e93d656a2ea5"
      },
      "execution_count": 4,
      "outputs": [
        {
          "output_type": "display_data",
          "data": {
            "text/plain": [
              "<IPython.core.display.Javascript object>"
            ],
            "application/javascript": [
              "\n",
              "    async function download(id, filename, size) {\n",
              "      if (!google.colab.kernel.accessAllowed) {\n",
              "        return;\n",
              "      }\n",
              "      const div = document.createElement('div');\n",
              "      const label = document.createElement('label');\n",
              "      label.textContent = `Downloading \"${filename}\": `;\n",
              "      div.appendChild(label);\n",
              "      const progress = document.createElement('progress');\n",
              "      progress.max = size;\n",
              "      div.appendChild(progress);\n",
              "      document.body.appendChild(div);\n",
              "\n",
              "      const buffers = [];\n",
              "      let downloaded = 0;\n",
              "\n",
              "      const channel = await google.colab.kernel.comms.open(id);\n",
              "      // Send a message to notify the kernel that we're ready.\n",
              "      channel.send({})\n",
              "\n",
              "      for await (const message of channel.messages) {\n",
              "        // Send a message to notify the kernel that we're ready.\n",
              "        channel.send({})\n",
              "        if (message.buffers) {\n",
              "          for (const buffer of message.buffers) {\n",
              "            buffers.push(buffer);\n",
              "            downloaded += buffer.byteLength;\n",
              "            progress.value = downloaded;\n",
              "          }\n",
              "        }\n",
              "      }\n",
              "      const blob = new Blob(buffers, {type: 'application/binary'});\n",
              "      const a = document.createElement('a');\n",
              "      a.href = window.URL.createObjectURL(blob);\n",
              "      a.download = filename;\n",
              "      div.appendChild(a);\n",
              "      a.click();\n",
              "      div.remove();\n",
              "    }\n",
              "  "
            ]
          },
          "metadata": {}
        },
        {
          "output_type": "display_data",
          "data": {
            "text/plain": [
              "<IPython.core.display.Javascript object>"
            ],
            "application/javascript": [
              "download(\"download_ff1fdbb7-f79b-4b1a-9bc6-261a2e83d364\", \"customers.csv\", 105652)"
            ]
          },
          "metadata": {}
        },
        {
          "output_type": "display_data",
          "data": {
            "text/plain": [
              "<IPython.core.display.Javascript object>"
            ],
            "application/javascript": [
              "\n",
              "    async function download(id, filename, size) {\n",
              "      if (!google.colab.kernel.accessAllowed) {\n",
              "        return;\n",
              "      }\n",
              "      const div = document.createElement('div');\n",
              "      const label = document.createElement('label');\n",
              "      label.textContent = `Downloading \"${filename}\": `;\n",
              "      div.appendChild(label);\n",
              "      const progress = document.createElement('progress');\n",
              "      progress.max = size;\n",
              "      div.appendChild(progress);\n",
              "      document.body.appendChild(div);\n",
              "\n",
              "      const buffers = [];\n",
              "      let downloaded = 0;\n",
              "\n",
              "      const channel = await google.colab.kernel.comms.open(id);\n",
              "      // Send a message to notify the kernel that we're ready.\n",
              "      channel.send({})\n",
              "\n",
              "      for await (const message of channel.messages) {\n",
              "        // Send a message to notify the kernel that we're ready.\n",
              "        channel.send({})\n",
              "        if (message.buffers) {\n",
              "          for (const buffer of message.buffers) {\n",
              "            buffers.push(buffer);\n",
              "            downloaded += buffer.byteLength;\n",
              "            progress.value = downloaded;\n",
              "          }\n",
              "        }\n",
              "      }\n",
              "      const blob = new Blob(buffers, {type: 'application/binary'});\n",
              "      const a = document.createElement('a');\n",
              "      a.href = window.URL.createObjectURL(blob);\n",
              "      a.download = filename;\n",
              "      div.appendChild(a);\n",
              "      a.click();\n",
              "      div.remove();\n",
              "    }\n",
              "  "
            ]
          },
          "metadata": {}
        },
        {
          "output_type": "display_data",
          "data": {
            "text/plain": [
              "<IPython.core.display.Javascript object>"
            ],
            "application/javascript": [
              "download(\"download_e8873956-f6a7-4320-a0f4-709dee072928\", \"menu_items.csv\", 1586)"
            ]
          },
          "metadata": {}
        },
        {
          "output_type": "display_data",
          "data": {
            "text/plain": [
              "<IPython.core.display.Javascript object>"
            ],
            "application/javascript": [
              "\n",
              "    async function download(id, filename, size) {\n",
              "      if (!google.colab.kernel.accessAllowed) {\n",
              "        return;\n",
              "      }\n",
              "      const div = document.createElement('div');\n",
              "      const label = document.createElement('label');\n",
              "      label.textContent = `Downloading \"${filename}\": `;\n",
              "      div.appendChild(label);\n",
              "      const progress = document.createElement('progress');\n",
              "      progress.max = size;\n",
              "      div.appendChild(progress);\n",
              "      document.body.appendChild(div);\n",
              "\n",
              "      const buffers = [];\n",
              "      let downloaded = 0;\n",
              "\n",
              "      const channel = await google.colab.kernel.comms.open(id);\n",
              "      // Send a message to notify the kernel that we're ready.\n",
              "      channel.send({})\n",
              "\n",
              "      for await (const message of channel.messages) {\n",
              "        // Send a message to notify the kernel that we're ready.\n",
              "        channel.send({})\n",
              "        if (message.buffers) {\n",
              "          for (const buffer of message.buffers) {\n",
              "            buffers.push(buffer);\n",
              "            downloaded += buffer.byteLength;\n",
              "            progress.value = downloaded;\n",
              "          }\n",
              "        }\n",
              "      }\n",
              "      const blob = new Blob(buffers, {type: 'application/binary'});\n",
              "      const a = document.createElement('a');\n",
              "      a.href = window.URL.createObjectURL(blob);\n",
              "      a.download = filename;\n",
              "      div.appendChild(a);\n",
              "      a.click();\n",
              "      div.remove();\n",
              "    }\n",
              "  "
            ]
          },
          "metadata": {}
        },
        {
          "output_type": "display_data",
          "data": {
            "text/plain": [
              "<IPython.core.display.Javascript object>"
            ],
            "application/javascript": [
              "download(\"download_0ebe3b69-19d1-4d1d-b5e1-606e11da92ec\", \"orders.csv\", 39636)"
            ]
          },
          "metadata": {}
        }
      ]
    }
  ]
}